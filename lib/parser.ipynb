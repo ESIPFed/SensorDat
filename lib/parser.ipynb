{
 "cells": [
  {
   "cell_type": "markdown",
   "metadata": {},
   "source": [
    "# The Joy of Data"
   ]
  },
  {
   "cell_type": "code",
   "execution_count": 15,
   "metadata": {},
   "outputs": [],
   "source": [
    "import ast\n",
    "import json\n",
    "import influxdb\n",
    "import pandas as pd\n",
    "import numpy as np\n",
    "from matplotlib import pyplot as plt\n",
    "from cookbook import Cookbook\n",
    "import seaborn as sns\n",
    "\n",
    "%matplotlib inline"
   ]
  },
  {
   "cell_type": "code",
   "execution_count": 16,
   "metadata": {},
   "outputs": [],
   "source": [
    "sns.set_palette('husl', 2)"
   ]
  },
  {
   "cell_type": "markdown",
   "metadata": {},
   "source": [
    "# Goals\n",
    "\n",
    "- Create a verified data product from raw data\n",
    "- Can apply arbitrary transformations (e.g. rating curves), tests, and annotations for the purposes of QAQC and data provenance.\n",
    "- Uses documents that are:\n",
    "  - Language-agnostic\n",
    "  - Versionable\n",
    "  - Human readable\n",
    "- Primarily intended for in-situ sensor data\n",
    "- Must be suitable for real-time applications (e.g. both batch and streaming)"
   ]
  },
  {
   "cell_type": "markdown",
   "metadata": {},
   "source": [
    "# Basic structure"
   ]
  },
  {
   "cell_type": "markdown",
   "metadata": {},
   "source": [
    "## 🌶 Ingredients\n",
    "\n",
    "- Specifies the source datasets to be used in the recipe.\n",
    "\n",
    "## 🥘 Recipe\n",
    "\n",
    "- Describes a series of transformations and annotations on each ingredient.\n",
    "\n",
    "## 🍜 Servings\n",
    "\n",
    "- Describes the translation of the finished recipe to some output (e.g. csv, database, netcdf)."
   ]
  },
  {
   "cell_type": "markdown",
   "metadata": {},
   "source": [
    "# Specifying ingredients"
   ]
  },
  {
   "cell_type": "markdown",
   "metadata": {},
   "source": [
    "- Requires a handle to some dataset, along with a driver for reading that dataset into a standard format.\n",
    "- Currently supported formats include n-dimensional arrays with labeled indices (e.g. pandas Series and DataFrames).\n",
    "- Drivers are loaded into the \"cookbook\" class.\n",
    "- Configuration information for drivers is specified in JSON or JSONLD."
   ]
  },
  {
   "cell_type": "markdown",
   "metadata": {},
   "source": [
    "# Specifying recipes"
   ]
  },
  {
   "cell_type": "markdown",
   "metadata": {},
   "source": [
    "Recipes apply a series of transformations and annotations to the data.\n",
    "\n",
    "The primary operations include:\n",
    "\n",
    "- **Query**: Returns a subset of the target dataset.\n",
    "- **Drop**: Drops a subset of the target dataset.\n",
    "- **Join**: Concatenate multiple datasets along some axis.\n",
    "- **Transformation**: A size-preserving transformation on the data (e.g. adding, exponentiation, trig functions, rule-based replacements, FFT, etc.)\n",
    "  - Note that built-in transformations are largely based on numpy and pandas ufuncs.\n",
    "- **Aggregation**: Aggregates the dataset along some axis (e.g. sum, product, cumulative sum, all, any). \n",
    "- **Delete**: Removes a dataset from memory.\n",
    "- **Annotation**: Apply an annotation to a subset of the data (by index, or by conditional statement)."
   ]
  },
  {
   "cell_type": "markdown",
   "metadata": {},
   "source": [
    "# Specifying servings"
   ]
  },
  {
   "cell_type": "markdown",
   "metadata": {},
   "source": [
    "- Essentially the converse of \"ingredients\".\n",
    "- Requires a handle to some output dataset or database, along with a driver for writing the data."
   ]
  },
  {
   "cell_type": "markdown",
   "metadata": {},
   "source": [
    "# Running some examples"
   ]
  },
  {
   "cell_type": "code",
   "execution_count": 17,
   "metadata": {},
   "outputs": [],
   "source": [
    "mbd = Cookbook('../example/mary-beth-doyle.jsonld')"
   ]
  },
  {
   "cell_type": "code",
   "execution_count": 18,
   "metadata": {},
   "outputs": [],
   "source": [
    "mbd.run()"
   ]
  },
  {
   "cell_type": "code",
   "execution_count": 19,
   "metadata": {},
   "outputs": [],
   "source": [
    "sycamore = Cookbook('../example/sycamore-sycamore_school.jsonld')"
   ]
  },
  {
   "cell_type": "code",
   "execution_count": 20,
   "metadata": {},
   "outputs": [],
   "source": [
    "sycamore.run()"
   ]
  },
  {
   "cell_type": "markdown",
   "metadata": {},
   "source": [
    "# Let's take a look at one of the annotations"
   ]
  },
  {
   "cell_type": "code",
   "execution_count": 21,
   "metadata": {},
   "outputs": [],
   "source": [
    "annotation = mbd.annotations['maxbotix_depth']['spikes']"
   ]
  },
  {
   "cell_type": "code",
   "execution_count": 22,
   "metadata": {},
   "outputs": [
    {
     "data": {
      "text/plain": [
       "{'description': 'Spikes detected',\n",
       " 'flag': '\\U0001f994',\n",
       " 'loggedBy': 'automated',\n",
       " 'where': 2016-11-20 21:41:27.916880793    False\n",
       " 2016-11-20 21:44:11.359795756     True\n",
       " 2016-11-20 21:49:10.050333386    False\n",
       " 2016-11-20 21:51:58.040954752    False\n",
       " 2016-11-20 21:54:41.758974129    False\n",
       " 2016-11-20 21:57:29.745917539    False\n",
       " 2016-11-20 22:00:13.833808547    False\n",
       " 2016-11-20 22:02:56.626770924    False\n",
       " 2016-11-20 22:05:42.037187088    False\n",
       " 2016-11-20 22:08:16.620283008    False\n",
       " 2016-11-20 22:14:27.238977312     True\n",
       " 2016-11-20 22:17:13.494983992    False\n",
       " 2016-11-20 22:21:57.204792269    False\n",
       " 2016-11-20 22:24:47.706892189    False\n",
       " 2016-11-20 22:27:46.735271555    False\n",
       " 2016-11-20 22:30:45.412628404    False\n",
       " 2016-11-20 22:33:35.272682879    False\n",
       " 2016-11-20 22:36:28.070646080    False\n",
       " 2016-11-20 22:39:18.726371312    False\n",
       " 2016-11-20 22:42:15.930703868    False\n",
       " 2016-11-20 22:45:12.621929290    False\n",
       " 2016-11-20 22:48:06.421169749    False\n",
       " 2016-11-20 22:50:56.094274314    False\n",
       " 2016-11-20 22:53:45.988217786    False\n",
       " 2016-11-20 22:56:33.775132115    False\n",
       " 2016-11-20 22:59:26.260230191    False\n",
       " 2016-11-20 23:02:16.990729181    False\n",
       " 2016-11-20 23:05:09.053915329    False\n",
       " 2016-11-20 23:08:00.761050436    False\n",
       " 2016-11-20 23:10:52.757943412    False\n",
       "                                  ...  \n",
       " 2018-05-22 15:41:18.858425328    False\n",
       " 2018-05-22 16:15:16.109844508    False\n",
       " 2018-05-22 17:22:48.936270160    False\n",
       " 2018-05-22 18:03:32.852409025    False\n",
       " 2018-05-22 18:27:03.029274350    False\n",
       " 2018-05-22 19:00:38.313847285    False\n",
       " 2018-05-22 19:33:56.867354471    False\n",
       " 2018-05-22 19:46:24.784315038    False\n",
       " 2018-05-22 19:53:38.134334649    False\n",
       " 2018-05-22 20:11:48.262729296    False\n",
       " 2018-05-22 20:45:20.133342889    False\n",
       " 2018-05-22 22:26:58.907927327    False\n",
       " 2018-05-22 23:01:29.639255432    False\n",
       " 2018-05-22 23:36:58.759644316    False\n",
       " 2018-05-23 00:12:37.849086340    False\n",
       " 2018-05-23 00:49:10.428669999    False\n",
       " 2018-05-23 01:25:49.917696522    False\n",
       " 2018-05-23 02:03:24.309307135    False\n",
       " 2018-05-23 02:07:43.325085634    False\n",
       " 2018-05-23 02:11:58.978020707    False\n",
       " 2018-05-23 02:14:53.021743000    False\n",
       " 2018-05-23 02:17:47.704904420    False\n",
       " 2018-05-23 02:20:37.971819077    False\n",
       " 2018-05-23 02:26:23.323801202    False\n",
       " 2018-05-23 02:29:09.903330397    False\n",
       " 2018-05-23 02:31:58.565658587    False\n",
       " 2018-05-23 02:37:55.559541054    False\n",
       " 2018-05-23 02:56:36.292139500    False\n",
       " 2018-05-23 03:19:13.377259422    False\n",
       " 2018-05-23 03:57:19.060640345    False\n",
       " Length: 44729, dtype: bool}"
      ]
     },
     "execution_count": 22,
     "metadata": {},
     "output_type": "execute_result"
    }
   ],
   "source": [
    "annotation"
   ]
  },
  {
   "cell_type": "code",
   "execution_count": 23,
   "metadata": {},
   "outputs": [],
   "source": [
    "emojis = annotation['where'].map({True: annotation['flag'], False: '😀'})"
   ]
  },
  {
   "cell_type": "code",
   "execution_count": 24,
   "metadata": {},
   "outputs": [
    {
     "data": {
      "text/plain": [
       "2016-11-20 21:41:27.916880793    😀\n",
       "2016-11-20 21:44:11.359795756    🦔\n",
       "2016-11-20 21:49:10.050333386    😀\n",
       "2016-11-20 21:51:58.040954752    😀\n",
       "2016-11-20 21:54:41.758974129    😀\n",
       "2016-11-20 21:57:29.745917539    😀\n",
       "2016-11-20 22:00:13.833808547    😀\n",
       "2016-11-20 22:02:56.626770924    😀\n",
       "2016-11-20 22:05:42.037187088    😀\n",
       "2016-11-20 22:08:16.620283008    😀\n",
       "2016-11-20 22:14:27.238977312    🦔\n",
       "2016-11-20 22:17:13.494983992    😀\n",
       "2016-11-20 22:21:57.204792269    😀\n",
       "2016-11-20 22:24:47.706892189    😀\n",
       "2016-11-20 22:27:46.735271555    😀\n",
       "2016-11-20 22:30:45.412628404    😀\n",
       "2016-11-20 22:33:35.272682879    😀\n",
       "2016-11-20 22:36:28.070646080    😀\n",
       "2016-11-20 22:39:18.726371312    😀\n",
       "2016-11-20 22:42:15.930703868    😀\n",
       "dtype: object"
      ]
     },
     "execution_count": 24,
     "metadata": {},
     "output_type": "execute_result"
    }
   ],
   "source": [
    "emojis.head(20)"
   ]
  },
  {
   "cell_type": "code",
   "execution_count": 25,
   "metadata": {},
   "outputs": [
    {
     "data": {
      "image/png": "[encoded data removed]",
      "text/plain": [
       "<matplotlib.figure.Figure at 0x111636320>"
      ]
     },
     "metadata": {},
     "output_type": "display_data"
    }
   ],
   "source": [
    "fig, ax = plt.subplots(figsize=(8, 4))\n",
    "\n",
    "mbd.maxbotix_depth.iloc[-10000:].plot(ax=ax)\n",
    "\n",
    "annotation_where = annotation['where'][-10000:]\n",
    "\n",
    "for timestamp in annotation_where[annotation_where].index:\n",
    "    ax.axvline(timestamp, color='orange')"
   ]
  },
  {
   "cell_type": "code",
   "execution_count": null,
   "metadata": {},
   "outputs": [],
   "source": []
  }
 ],
 "metadata": {
  "kernelspec": {
   "display_name": "Python 3",
   "language": "python",
   "name": "python3"
  },
  "language_info": {
   "codemirror_mode": {
    "name": "ipython",
    "version": 3
   },
   "file_extension": ".py",
   "mimetype": "text/x-python",
   "name": "python",
   "nbconvert_exporter": "python",
   "pygments_lexer": "ipython3",
   "version": "3.6.0"
  }
 },
 "nbformat": 4,
 "nbformat_minor": 2
}
